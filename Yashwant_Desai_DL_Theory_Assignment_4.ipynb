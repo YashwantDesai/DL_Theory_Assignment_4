{
 "cells": [
  {
   "cell_type": "markdown",
   "id": "0c27a818",
   "metadata": {},
   "source": [
    "# Yashwant Desai –  DL_Theory_Assignment_4"
   ]
  },
  {
   "cell_type": "markdown",
   "id": "8add2c39",
   "metadata": {},
   "source": [
    "# 1.\tHow would you describe TensorFlow in a short sentence? What are its main features? Can you name other popular Deep Learning libraries?"
   ]
  },
  {
   "cell_type": "markdown",
   "id": "2825c296",
   "metadata": {},
   "source": [
    "TensorFlow is an open-source deep learning framework developed by Google that provides a flexible platform for building and training machine learning models. Its main features include a symbolic computation graph, support for both CPU and GPU computations, automatic differentiation, and a wide range of pre-built deep learning modules. Other popular deep learning libraries include PyTorch, Keras, and Caffe."
   ]
  },
  {
   "cell_type": "markdown",
   "id": "d6d3e085",
   "metadata": {},
   "source": [
    "# 2.\tIs TensorFlow a drop-in replacement for NumPy? What are the main differences between the two?"
   ]
  },
  {
   "cell_type": "markdown",
   "id": "8ad4948d",
   "metadata": {},
   "source": [
    "TensorFlow is not a drop-in replacement for NumPy, although it shares some similarities. The main differences include TensorFlow's symbolic computation graph, which allows for distributed computing and GPU acceleration, and the need to explicitly run sessions to evaluate computations. NumPy, on the other hand, is primarily used for numerical operations on a single CPU and offers immediate execution of operations."
   ]
  },
  {
   "cell_type": "markdown",
   "id": "220acfb9",
   "metadata": {},
   "source": [
    "# 3.\tDo you get the same result with tf.range(10) and tf.constant(np.arange(10))?"
   ]
  },
  {
   "cell_type": "markdown",
   "id": "7a41181c",
   "metadata": {},
   "source": [
    "Yes, tf.range(10) and tf.constant(np.arange(10)) would produce the same result, which is a TensorFlow tensor containing the values from 0 to 9."
   ]
  },
  {
   "cell_type": "markdown",
   "id": "833a930e",
   "metadata": {},
   "source": [
    "# 4.\tCan you name six other data structures available in TensorFlow, beyond regular tensors?"
   ]
  },
  {
   "cell_type": "markdown",
   "id": "a5bd43bc",
   "metadata": {},
   "source": [
    "Beyond regular tensors, TensorFlow offers following six data structures \n",
    "\n",
    "1 Sparse Tensors\n",
    "\n",
    "2 Ragged Tensors\n",
    "\n",
    "3 Tensor Arrays\n",
    "\n",
    "4 Variables\n",
    "\n",
    "5 Datasets\n",
    "\n",
    "6 Queues."
   ]
  },
  {
   "cell_type": "markdown",
   "id": "722a67ce",
   "metadata": {},
   "source": [
    "# 5.\tA custom loss function can be defined by writing a function or by subclassing the keras.losses.Loss class. When would you use each option?"
   ]
  },
  {
   "cell_type": "markdown",
   "id": "c0c562a4",
   "metadata": {},
   "source": [
    "You can define a custom loss function by writing a function when you need a simple loss that can be expressed as a mathematical operation. Subclassing keras.losses.Loss is useful when you need a more complex loss that requires additional state or customization."
   ]
  },
  {
   "cell_type": "markdown",
   "id": "f7dec7cc",
   "metadata": {},
   "source": [
    "# 6.\tSimilarly, a custom metric can be defined in a function or a subclass of keras.metrics.Metric. When would you use each option?"
   ]
  },
  {
   "cell_type": "markdown",
   "id": "d0e66bb8",
   "metadata": {},
   "source": [
    "You can define a custom metric in a function when it's a straightforward evaluation that can be computed directly from model predictions and targets. Subclassing keras.metrics.Metric is appropriate when the metric needs to accumulate state or has a more complex computation."
   ]
  },
  {
   "cell_type": "markdown",
   "id": "3657d505",
   "metadata": {},
   "source": [
    "# 7.\tWhen should you create a custom layer versus a custom model?"
   ]
  },
  {
   "cell_type": "markdown",
   "id": "ed932490",
   "metadata": {},
   "source": [
    "Create a custom layer when you need to define a specific neural network operation or a block of operations that can be reused in different models. Create a custom model when you want to define the overall architecture of a complete model, combining multiple layers and custom logic for tasks like transfer learning or complex model structures."
   ]
  },
  {
   "cell_type": "markdown",
   "id": "5794c506",
   "metadata": {},
   "source": [
    "# 8.\tWhat are some use cases that require writing your own custom training loop?"
   ]
  },
  {
   "cell_type": "markdown",
   "id": "09d7bee7",
   "metadata": {},
   "source": [
    "Custom training loops are necessary when you need fine-grained control over training, such as implementing custom optimization algorithms, handling non-standard data inputs, incorporating external losses, or introducing complex learning rate schedules."
   ]
  },
  {
   "cell_type": "markdown",
   "id": "5bd5fd92",
   "metadata": {},
   "source": [
    "# 9.\tCan custom Keras components contain arbitrary Python code, or must they be convertible to TF Functions?"
   ]
  },
  {
   "cell_type": "markdown",
   "id": "176edc68",
   "metadata": {},
   "source": [
    "Custom Keras components can contain arbitrary Python code, but for performance optimization, it's advisable to make them convertible to TF Functions using TensorFlow's @tf.function decorator."
   ]
  },
  {
   "cell_type": "markdown",
   "id": "7aa3edbb",
   "metadata": {},
   "source": [
    "# 10.\tWhat are the main rules to respect if you want a function to be convertible to a TF Function?"
   ]
  },
  {
   "cell_type": "markdown",
   "id": "3ed0c845",
   "metadata": {},
   "source": [
    "To make a function convertible to a TF Function, you should avoid using operations that are not supported by TensorFlow's computation graph, such as file I/O or certain Python constructs. Additionally, use TensorFlow's data types and avoid using NumPy or other external libraries."
   ]
  },
  {
   "cell_type": "markdown",
   "id": "042927e6",
   "metadata": {},
   "source": [
    "# 11.\tWhen would you need to create a dynamic Keras model? How do you do that? Why not make all your models dynamic?"
   ]
  },
  {
   "cell_type": "markdown",
   "id": "5eef667c",
   "metadata": {},
   "source": [
    "You would create a dynamic Keras model when you have a variable number of input features or require conditional execution based on data. To create a dynamic model, you can use the Functional API with input layers that accept dynamic shapes. Not all models should be dynamic, as static models can offer better performance optimizations when the input and output shapes are known in advance. Dynamic models can be slower and may not be suitable for all use cases."
   ]
  },
  {
   "cell_type": "markdown",
   "id": "dda7d5b1",
   "metadata": {},
   "source": [
    "# Done all 11 questions "
   ]
  },
  {
   "cell_type": "markdown",
   "id": "a04469f9",
   "metadata": {},
   "source": [
    "# Regards,Yashwant"
   ]
  }
 ],
 "metadata": {
  "kernelspec": {
   "display_name": "Python 3 (ipykernel)",
   "language": "python",
   "name": "python3"
  },
  "language_info": {
   "codemirror_mode": {
    "name": "ipython",
    "version": 3
   },
   "file_extension": ".py",
   "mimetype": "text/x-python",
   "name": "python",
   "nbconvert_exporter": "python",
   "pygments_lexer": "ipython3",
   "version": "3.9.13"
  }
 },
 "nbformat": 4,
 "nbformat_minor": 5
}
